{
 "cells": [
  {
   "cell_type": "code",
   "execution_count": 1,
   "metadata": {},
   "outputs": [],
   "source": [
    "# Bayesian with MCMC - Gibbs sampling\n",
    "# Simple example: Inference parameter p of Bernoulli distribution\n",
    "# Author: tran.vuduc[at]gmail.com\n",
    "\n",
    "import numpy as np\n",
    "import edward as ed\n",
    "from edward.models import Beta, Bernoulli, Empirical\n",
    "import tensorflow as tf"
   ]
  },
  {
   "cell_type": "code",
   "execution_count": 2,
   "metadata": {},
   "outputs": [],
   "source": [
    "# Model\n",
    "p = Beta(1.0, 1.0) # This is the parameter to be estimated, Beta is the prior distribution of p\n",
    "x = Bernoulli(probs=p, sample_shape=10000) # This is observation variable\n",
    "qp = Empirical(tf.Variable(tf.zeros(10000))) # This is the posterior of p, it is an empirical distribution with 500 samples\n"
   ]
  },
  {
   "cell_type": "code",
   "execution_count": 3,
   "metadata": {},
   "outputs": [
    {
     "name": "stdout",
     "output_type": "stream",
     "text": [
      "('True probability:', 0.2)\n",
      "('Observations:', array([1, 0, 0, ..., 0, 0, 0]))\n"
     ]
    }
   ],
   "source": [
    "# Data\n",
    "x_data = np.random.binomial(1,0.2,size=10000) # Observations with p ~ 0.2\n",
    "print(\"True probability:\", 0.2)\n",
    "print(\"Observations:\", x_data)"
   ]
  },
  {
   "cell_type": "code",
   "execution_count": 5,
   "metadata": {},
   "outputs": [
    {
     "name": "stdout",
     "output_type": "stream",
     "text": [
      "10000/10000 [100%] ██████████████████████████████ Elapsed: 10s | Acceptance Rate: 1.000\n"
     ]
    }
   ],
   "source": [
    "# Inference\n",
    "inference = ed.Gibbs({p: qp}, data={x: x_data})\n",
    "inference.initialize(n_iter=10000)\n",
    "tf.global_variables_initializer().run()\n",
    "\n",
    "for _ in range(inference.n_iter):\n",
    "    info_dict = inference.update()\n",
    "    inference.print_progress(info_dict)\n",
    "\n",
    "inference.finalize()"
   ]
  },
  {
   "cell_type": "code",
   "execution_count": 6,
   "metadata": {},
   "outputs": [
    {
     "name": "stdout",
     "output_type": "stream",
     "text": [
      "('RMSE: ', 0.004133943468216098)\n"
     ]
    }
   ],
   "source": [
    "sess = ed.get_session()\n",
    "samples_p = [sess.run(qp) for i in range(10000)]\n",
    "rmse = np.sqrt(np.mean(np.asarray([(sess.run(qp)-0.2)**2 for i in range(10000)])))\n",
    "print('RMSE: ', rmse)"
   ]
  },
  {
   "cell_type": "code",
   "execution_count": 8,
   "metadata": {},
   "outputs": [
    {
     "data": {
      "image/png": "[encoded data removed]",
      "text/plain": [
       "<Figure size 432x288 with 1 Axes>"
      ]
     },
     "metadata": {},
     "output_type": "display_data"
    }
   ],
   "source": [
    "import matplotlib.pyplot as plt\n",
    "plt.hist(samples_p)\n",
    "plt.show()\n"
   ]
  }
 ],
 "metadata": {
  "kernelspec": {
   "display_name": "Python 2",
   "language": "python",
   "name": "python2"
  },
  "language_info": {
   "codemirror_mode": {
    "name": "ipython",
    "version": 2
   },
   "file_extension": ".py",
   "mimetype": "text/x-python",
   "name": "python",
   "nbconvert_exporter": "python",
   "pygments_lexer": "ipython2",
   "version": "2.7.15"
  }
 },
 "nbformat": 4,
 "nbformat_minor": 2
}
