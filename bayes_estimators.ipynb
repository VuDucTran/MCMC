{
 "cells": [
  {
   "cell_type": "code",
   "execution_count": 2,
   "metadata": {},
   "outputs": [],
   "source": [
    "# Some analytic Bayesian estimators for common distributions (Bernoulli, Binomial, ...)\n",
    "# Reference: A first course in Bayesian Statistical Methods by Peter D.Hoff\n",
    "# Author: tran.vuduc[at]gmail.com\n",
    "\n",
    "import numpy as np\n",
    "import matplotlib.pyplot as plt\n",
    "from scipy.special import gamma"
   ]
  },
  {
   "cell_type": "markdown",
   "metadata": {},
   "source": [
    "# The posterior distribution for parameter theta of a Bernoulli distribution B(1,theta)\n",
    "We have \n",
    "$$p(\\theta\\ |\\ y) = \\frac{p(y\\ |\\ \\theta) \\ p(\\theta)}{p(y)}=\\frac{\\theta^k\\ (1-\\theta)^{n-k}\\ p(\\theta)}{p(y)}$$\n",
    "\n",
    "With the prior distribution of theta as an Uniform distribution $U[0,1]$, $p(\\theta)=1$ and it is easy to demonstrate that\n",
    "$$p(y)=\\frac{\\Gamma(k+1)\\ \\Gamma(n-k+1)}{\\Gamma(n+2)}$$\n",
    "Hence, the posterior distribution is\n",
    "$$p(\\theta\\ |\\ y_1, \\ldots, y_{n}) = \\frac{\\Gamma(n+2)}{\\Gamma(k+1)\\ \\Gamma(n-k+1)}\\theta^{k}(1-\\theta)^{n-k}$$\n",
    "\n",
    "This is the density function of the Beta distribution: $Beta(a=k+1, b=n-k+1)$. \n",
    "\n",
    "We use the following properties for evaluating the posterior mean and variance of theta.\n",
    "\n",
    "If $X \\sim Beta(a,b)$, then\n",
    "\n",
    "$$E(X) = \\frac{a}{a+b} \\quad \\textrm{and} \\quad Var(X) = \\frac{ab}{(a+b+1)(a+b)^2}$$\n"
   ]
  },
  {
   "cell_type": "code",
   "execution_count": 3,
   "metadata": {},
   "outputs": [
    {
     "data": {
      "text/plain": [
       "(81, 50, 0.6183206106870229, 0.0017878805536867422)"
      ]
     },
     "execution_count": 3,
     "metadata": {},
     "output_type": "execute_result"
    }
   ],
   "source": [
    "def bayes_estimator_bernoulli(data):\n",
    "    # input: data is a numpy array with binary value, which has the distribution B(1,theta)\n",
    "    # model: For estimating the parameter theta \n",
    "    ## the prior distribution for theta is Uniform[0,1]\n",
    "    # output: \n",
    "    ## a,b: two parameters of the posterior distribution Beta(a,b)\n",
    "    ## pos_mean: posterior estimation for the mean of theta\n",
    "    ## pos_var: posterior estimation for the var of theta\n",
    "    n = len(data)\n",
    "    k = sum(data)\n",
    "    a = k+1\n",
    "    b = n-k+1\n",
    "    pos_mean = 1.*a/(a+b)\n",
    "    pos_var = 1.*(a*b)/((a+b+1)*(a+b)**2)\n",
    "    return a, b, pos_mean, pos_var\n",
    "\n",
    "# Example\n",
    "n = 129 # sample size\n",
    "data = np.random.binomial(size=n, n=1, p=0.6)\n",
    "a, b, pos_mean, pos_var = bayes_estimator_bernoulli(data)\n",
    "a, b, pos_mean, pos_var"
   ]
  },
  {
   "cell_type": "markdown",
   "metadata": {},
   "source": [
    "# The posterior distribution for parameter theta of a Binomial distribution B(n,theta)\n",
    "$$p(\\theta\\ |\\ y) = \\frac{p(y\\ |\\ \\theta) \\ p(\\theta)}{p(y)}=\\frac{C_n^y\\ \\theta^y\\ (1-\\theta)^{n-y}\\ p(\\theta)}{p(y)} = c(y)\\ \\theta^y\\ (1-\\theta)^{n-y}\\ p(\\theta)$$\n",
    "\n",
    "where\n",
    "$$c(y) = \\frac{C_n^y}{p(y)} $$\n",
    "\n",
    "For the prior distribution as an uniform distribution, we have $p(\\theta)=1$ for all $\\theta \\in [0,1]$. The term $c(y)$ can be found out by solving the following equation\n",
    "$$1=\\int_0^1 c(y) \\theta^y\\ (1-\\theta)^{n-y} d\\theta$$\n",
    "$$\\Leftrightarrow c(y) = \\frac{\\Gamma(n+2)}{\\Gamma(y+1)\\ \\Gamma(n-y+1)}$$\n",
    "Hence the posterior distribution is\n",
    "$$p(\\theta\\ |\\ y) = \\frac{\\Gamma(n+2)}{\\Gamma(y+1)\\ \\Gamma(n-y+1)} \\theta^y\\ (1-\\theta)^{n-y} = Beta(y+1, n-y+1)$$\n",
    "We use the following properties for evaluating the posterior mean and variance of theta.\n",
    "\n",
    "If $X \\sim Beta(a,b)$, then\n",
    "\n",
    "$$E(X) = \\frac{a}{a+b} \\quad \\textrm{and} \\quad Var(X) = \\frac{ab}{(a+b+1)(a+b)^2}$$\n",
    "\n"
   ]
  },
  {
   "cell_type": "code",
   "execution_count": 4,
   "metadata": {},
   "outputs": [
    {
     "data": {
      "text/plain": [
       "(84, 47, 0.6412213740458015, 0.0017428524508531502)"
      ]
     },
     "execution_count": 4,
     "metadata": {},
     "output_type": "execute_result"
    }
   ],
   "source": [
    "def bayes_estimator_binomial(n, k, a_prior, b_prior):\n",
    "    # input: \n",
    "    ## n: number of trials\n",
    "    ## k: number of sucessful \n",
    "    # model: For estimating the parameter theta of B(n,theta)\n",
    "    ## the prior distribution for theta is Beta(a_prior, b_prior)\n",
    "    ## If a_prior=1 and b_prior=1, then the prior distribution is Uniform[0,1]\n",
    "    # output: \n",
    "    ## a,b: two parameters of the posterior distribution Beta(a,b)\n",
    "    ## pos_mean: posterior estimation for the mean of theta\n",
    "    ## pos_var: posterior estimation for the var of theta\n",
    "    \n",
    "    a = k + a_prior\n",
    "    b = n-k + b_prior\n",
    "    pos_mean = 1.*a/(a+b)\n",
    "    pos_var = 1.*(a*b)/((a+b+1)*(a+b)**2)\n",
    "        \n",
    "    return a, b, pos_mean, pos_var\n",
    "# Example\n",
    "n = 129 # sample size\n",
    "data = np.random.binomial(size=1, n=n, p=0.6)\n",
    "data = data.tolist()[0]\n",
    "a, b, pos_mean, pos_var = bayes_estimator_binomial(n, data, 1, 1)\n",
    "a, b, pos_mean, pos_var"
   ]
  },
  {
   "cell_type": "code",
   "execution_count": 5,
   "metadata": {},
   "outputs": [
    {
     "data": {
      "text/plain": [
       "(133, 146, 0.4767025089605735, 0.0008909186675402423)"
      ]
     },
     "execution_count": 5,
     "metadata": {},
     "output_type": "execute_result"
    }
   ],
   "source": [
    "a, b, pos_mean, pos_var = bayes_estimator_binomial(n, data, 50, 100)\n",
    "a, b, pos_mean, pos_var"
   ]
  }
 ],
 "metadata": {
  "kernelspec": {
   "display_name": "Python 2",
   "language": "python",
   "name": "python2"
  },
  "language_info": {
   "codemirror_mode": {
    "name": "ipython",
    "version": 2
   },
   "file_extension": ".py",
   "mimetype": "text/x-python",
   "name": "python",
   "nbconvert_exporter": "python",
   "pygments_lexer": "ipython2",
   "version": "2.7.15"
  }
 },
 "nbformat": 4,
 "nbformat_minor": 2
}
