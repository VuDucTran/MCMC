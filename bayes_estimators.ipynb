{
 "cells": [
  {
   "cell_type": "code",
   "execution_count": 1,
   "metadata": {},
   "outputs": [],
   "source": [
    "# Some analytic Bayesian estimators for common distributions (Bernoulli, Binomial, ...)\n",
    "# Reference: A first course in Bayesian Statistical Methods by Peter D.Hoff\n",
    "# Author: tran.vuduc[at]gmail.com\n",
    "\n",
    "import numpy as np\n",
    "import matplotlib.pyplot as plt\n",
    "from scipy.special import gamma\n",
    "from scipy.stats import beta"
   ]
  },
  {
   "cell_type": "markdown",
   "metadata": {},
   "source": [
    "# The posterior distribution for parameter theta of a Bernoulli distribution B(1,theta)\n",
    "We have \n",
    "$$p(\\theta\\ |\\ y) = \\frac{p(y\\ |\\ \\theta) \\ p(\\theta)}{p(y)}=\\frac{\\theta^k\\ (1-\\theta)^{n-k}\\ p(\\theta)}{p(y)}$$\n",
    "\n",
    "With the prior distribution of theta as an Uniform distribution $U[0,1]$, $p(\\theta)=1$ and it is easy to demonstrate that\n",
    "$$p(y)=\\frac{\\Gamma(k+1)\\ \\Gamma(n-k+1)}{\\Gamma(n+2)}$$\n",
    "Hence, the posterior distribution is\n",
    "$$p(\\theta\\ |\\ y_1, \\ldots, y_{n}) = \\frac{\\Gamma(n+2)}{\\Gamma(k+1)\\ \\Gamma(n-k+1)}\\theta^{k}(1-\\theta)^{n-k}$$\n",
    "\n",
    "This is the density function of the Beta distribution: $Beta(a=k+1, b=n-k+1)$. \n",
    "\n",
    "We use the following properties for evaluating the posterior mean and variance of theta.\n",
    "\n",
    "If $X \\sim Beta(a,b)$, then\n",
    "\n",
    "$$E(X) = \\frac{a}{a+b} \\quad \\textrm{and} \\quad Var(X) = \\frac{ab}{(a+b+1)(a+b)^2}$$\n"
   ]
  },
  {
   "cell_type": "code",
   "execution_count": 43,
   "metadata": {},
   "outputs": [
    {
     "name": "stdout",
     "output_type": "stream",
     "text": [
      "Prior distribution: Beta(  1,   1)\n",
      "Number of trials: 129, number of successes: 76\n",
      "Posterior distribution: Beta( 77, 54)\n",
      "Posterior mean: 0.5878\n",
      "Posterior variance: 0.00183556\n",
      "Posterior std: 0.04284341\n",
      "Posterior Confidence Interval (0.95): [0.5027, 0.6703]\n"
     ]
    }
   ],
   "source": [
    "def bayes_estimator_bernoulli(data, a_prior=1, b_prior=1, alpha=0.05):\n",
    "    '''Input:\n",
    "    data is a numpy array with binary value, which has the distribution B(1,theta)\n",
    "    a_prior, b_prior: parameters of prior distribution Beta(a_prior, b_prior)\n",
    "    alpha: significant level of the posterior confidence interval for parameter\n",
    "    Model:\n",
    "    for estimating the parameter theta of a Bernoulli distribution\n",
    "    the prior distribution for theta is Beta(1,1)=Uniform[0,1]\n",
    "    Output: \n",
    "    a,b: two parameters of the posterior distribution Beta(a,b)\n",
    "    pos_mean: posterior estimation for the mean of theta\n",
    "    pos_var: posterior estimation for the var of theta'''\n",
    "    n = len(data)\n",
    "    k = sum(data)\n",
    "    a = k+1\n",
    "    b = n-k+1\n",
    "    pos_mean = 1.*a/(a+b)\n",
    "    pos_var = 1.*(a*b)/((a+b+1)*(a+b)**2)\n",
    "    ## Posterior Confidence Interval\n",
    "    theta_inf, theta_sup = beta.interval(1-alpha,a,b)\n",
    "    print('Prior distribution: Beta(%3d, %3d)' %(a_prior,b_prior))\n",
    "    print('Number of trials: %d, number of successes: %d' %(n,k))\n",
    "    print('Posterior distribution: Beta(%3d,%3d)' %(a,b))\n",
    "    print('Posterior mean: %5.4f' %pos_mean)\n",
    "    print('Posterior variance: %5.8f' %pos_var)\n",
    "    print('Posterior std: %5.8f' %(np.sqrt(pos_var)))\n",
    "    print('Posterior Confidence Interval (%2.2f): [%5.4f, %5.4f]' %(1-alpha, theta_inf, theta_sup))\n",
    "    return a, b, pos_mean, pos_var\n",
    "\n",
    "# Example\n",
    "n = 129 # sample size\n",
    "data = np.random.binomial(size=n, n=1, p=0.6)\n",
    "a, b, pos_mean, pos_var = bayes_estimator_bernoulli(data)"
   ]
  },
  {
   "cell_type": "markdown",
   "metadata": {},
   "source": [
    "# The posterior distribution for parameter theta of a Binomial distribution B(n,theta)\n",
    "$$p(\\theta\\ |\\ y) = \\frac{p(y\\ |\\ \\theta) \\ p(\\theta)}{p(y)}=\\frac{C_n^y\\ \\theta^y\\ (1-\\theta)^{n-y}\\ p(\\theta)}{p(y)} = c(y)\\ \\theta^y\\ (1-\\theta)^{n-y}\\ p(\\theta)$$\n",
    "\n",
    "where\n",
    "$$c(y) = \\frac{C_n^y}{p(y)} $$\n",
    "\n",
    "For the prior distribution as an uniform distribution, we have $p(\\theta)=1$ for all $\\theta \\in [0,1]$. The term $c(y)$ can be found out by solving the following equation\n",
    "$$1=\\int_0^1 c(y) \\theta^y\\ (1-\\theta)^{n-y} d\\theta$$\n",
    "$$\\Leftrightarrow c(y) = \\frac{\\Gamma(n+2)}{\\Gamma(y+1)\\ \\Gamma(n-y+1)}$$\n",
    "Hence the posterior distribution is\n",
    "$$p(\\theta\\ |\\ y) = \\frac{\\Gamma(n+2)}{\\Gamma(y+1)\\ \\Gamma(n-y+1)} \\theta^y\\ (1-\\theta)^{n-y} = Beta(y+1, n-y+1)$$\n",
    "We use the following properties for evaluating the posterior mean and variance of theta.\n",
    "\n",
    "If $X \\sim Beta(a,b)$, then\n",
    "\n",
    "$$E(X) = \\frac{a}{a+b} \\quad \\textrm{and} \\quad Var(X) = \\frac{ab}{(a+b+1)(a+b)^2}$$\n",
    "\n"
   ]
  },
  {
   "cell_type": "code",
   "execution_count": 48,
   "metadata": {},
   "outputs": [
    {
     "name": "stdout",
     "output_type": "stream",
     "text": [
      "Prior distribution: Beta(  1,   1)\n",
      "Number of trials: 129, number of successes: 75\n",
      "Posterior distribution: Beta( 76, 55)\n",
      "Posterior mean: 0.5802\n",
      "Posterior variance: 0.00184527\n",
      "Posterior std: 0.04295660\n",
      "Posterior Confidence Interval (0.95): [0.4949, 0.6630]\n"
     ]
    }
   ],
   "source": [
    "def bayes_estimator_binomial(n, k, a_prior=1, b_prior=1, alpha=0.05):\n",
    "    '''Input: \n",
    "    n: number of trials\n",
    "    k: number of sucessful \n",
    "    a_prior, b_prior: parameters of prior distribution Beta(a_prior, b_prior)\n",
    "    alpha: significant level of the posterior confidence interval for parameter\n",
    "    Model: \n",
    "    for estimating the parameter theta of B(n,theta)\n",
    "    the prior distribution for theta is Beta(a_prior, b_prior)\n",
    "    If a_prior=1 and b_prior=1, then the prior distribution is Uniform[0,1]\n",
    "    Output: \n",
    "    a,b: two parameters of the posterior distribution Beta(a,b)\n",
    "    pos_mean: posterior estimation for the mean of theta\n",
    "    pos_var: posterior estimation for the var of theta'''\n",
    "    \n",
    "    a = k + a_prior\n",
    "    b = n-k + b_prior\n",
    "    pos_mean = 1.*a/(a+b)\n",
    "    pos_var = 1.*(a*b)/((a+b+1)*(a+b)**2)\n",
    "    ## Posterior Confidence Interval\n",
    "    theta_inf, theta_sup = beta.interval(1-alpha,a,b)\n",
    "    print('Prior distribution: Beta(%3d, %3d)' %(a_prior,b_prior))\n",
    "    print('Number of trials: %d, number of successes: %d' %(n,k))\n",
    "    print('Posterior distribution: Beta(%3d,%3d)' %(a,b))\n",
    "    print('Posterior mean: %5.4f' %pos_mean)\n",
    "    print('Posterior variance: %5.8f' %pos_var)\n",
    "    print('Posterior std: %5.8f' %(np.sqrt(pos_var)))\n",
    "    print('Posterior Confidence Interval (%2.2f): [%5.4f, %5.4f]' %(1-alpha, theta_inf, theta_sup))\n",
    "    return a, b, pos_mean, pos_var\n",
    "# Example\n",
    "n = 129 # sample size\n",
    "data = np.random.binomial(size=1, n=n, p=0.6)\n",
    "data = data.tolist()[0]\n",
    "a, b, pos_mean, pos_var = bayes_estimator_binomial(n, data, 1, 1)\n"
   ]
  },
  {
   "cell_type": "code",
   "execution_count": 35,
   "metadata": {},
   "outputs": [
    {
     "name": "stdout",
     "output_type": "stream",
     "text": [
      "Prior distribution: Beta( 50, 100)\n",
      "Number of trials: 129, number of successes: 80\n",
      "Posterior distribution: Beta(130,149)\n",
      "Posterior mean: 0.4659\n",
      "Posterior variance: 0.00088872\n",
      "Posterior std: 0.02981135\n",
      "Posterior Confidence Interval (0.95): [0.4078, 0.5246]\n"
     ]
    }
   ],
   "source": [
    "a, b, pos_mean, pos_var = bayes_estimator_binomial(n, data, 50, 100)"
   ]
  },
  {
   "cell_type": "code",
   "execution_count": 3,
   "metadata": {},
   "outputs": [
    {
     "ename": "NameError",
     "evalue": "name 'a' is not defined",
     "output_type": "error",
     "traceback": [
      "\u001b[0;31m---------------------------------------------------------------------------\u001b[0m",
      "\u001b[0;31mNameError\u001b[0m                                 Traceback (most recent call last)",
      "\u001b[0;32m<ipython-input-3-e9049028c624>\u001b[0m in \u001b[0;36m<module>\u001b[0;34m()\u001b[0m\n\u001b[0;32m----> 1\u001b[0;31m \u001b[0mbeta\u001b[0m\u001b[0;34m.\u001b[0m\u001b[0minterval\u001b[0m\u001b[0;34m(\u001b[0m\u001b[0;36m0.95\u001b[0m\u001b[0;34m,\u001b[0m\u001b[0ma\u001b[0m\u001b[0;34m,\u001b[0m\u001b[0mb\u001b[0m\u001b[0;34m)\u001b[0m\u001b[0;34m\u001b[0m\u001b[0m\n\u001b[0m",
      "\u001b[0;31mNameError\u001b[0m: name 'a' is not defined"
     ]
    }
   ],
   "source": []
  },
  {
   "cell_type": "code",
   "execution_count": 49,
   "metadata": {},
   "outputs": [],
   "source": [
    "bayes_estimator_binomial?"
   ]
  },
  {
   "cell_type": "code",
   "execution_count": null,
   "metadata": {},
   "outputs": [],
   "source": []
  }
 ],
 "metadata": {
  "kernelspec": {
   "display_name": "Python 2",
   "language": "python",
   "name": "python2"
  },
  "language_info": {
   "codemirror_mode": {
    "name": "ipython",
    "version": 2
   },
   "file_extension": ".py",
   "mimetype": "text/x-python",
   "name": "python",
   "nbconvert_exporter": "python",
   "pygments_lexer": "ipython2",
   "version": "2.7.15"
  }
 },
 "nbformat": 4,
 "nbformat_minor": 2
}
