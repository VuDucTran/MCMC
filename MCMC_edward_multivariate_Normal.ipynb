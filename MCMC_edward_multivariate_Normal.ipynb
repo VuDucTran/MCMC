{
 "cells": [
  {
   "cell_type": "code",
   "execution_count": 1,
   "metadata": {},
   "outputs": [
    {
     "name": "stderr",
     "output_type": "stream",
     "text": [
      "/anaconda2/lib/python2.7/site-packages/h5py/__init__.py:36: FutureWarning: Conversion of the second argument of issubdtype from `float` to `np.floating` is deprecated. In future, it will be treated as `np.float64 == np.dtype(float).type`.\n",
      "  from ._conv import register_converters as _register_converters\n"
     ]
    }
   ],
   "source": [
    "# Bayesian with MCMC - Gibbs sampling\n",
    "# Simple example: Inference parameter mu (the mean) of a multivariate Normal distribution\n",
    "# Author: tran.vuduc[at]gmail.com\n",
    "import numpy as np\n",
    "import edward as ed\n",
    "from edward.models import Empirical, Normal\n",
    "import tensorflow as tf\n",
    "import matplotlib.pyplot as plt"
   ]
  },
  {
   "cell_type": "code",
   "execution_count": 2,
   "metadata": {},
   "outputs": [],
   "source": [
    "# Model\n",
    "n = 5 # Variable dimension\n",
    "nobs = 30000 # number of observations\n",
    "ns = 1000 # number of samples\n",
    "mu = Normal(loc=tf.zeros(n), scale=tf.ones(n)) # This is the parameter to be estimated\n",
    "x = Normal(loc=mu, scale=tf.ones(n), sample_shape=nobs) # This is the observation variable\n",
    "qmu = Empirical(tf.Variable(tf.zeros([ns,n]))) # This is the posterior of parameter, which is an empirical distribution with ns samples"
   ]
  },
  {
   "cell_type": "code",
   "execution_count": 6,
   "metadata": {},
   "outputs": [
    {
     "name": "stdout",
     "output_type": "stream",
     "text": [
      "('True mean:', array([1., 1., 1., 1., 1.]))\n"
     ]
    }
   ],
   "source": [
    "# Data\n",
    "true_mu = np.ones(n) # The true value of the mean\n",
    "x_data = true_mu + np.random.randn(nobs,n) # Observations: multivariate normal distribution\n",
    "print(\"True mean:\", true_mu)"
   ]
  },
  {
   "cell_type": "code",
   "execution_count": 4,
   "metadata": {},
   "outputs": [
    {
     "name": "stdout",
     "output_type": "stream",
     "text": [
      "  10/1000 [  1%]                                ETA: 13s | Acceptance Rate: 1.000"
     ]
    },
    {
     "name": "stderr",
     "output_type": "stream",
     "text": [
      "/anaconda2/lib/python2.7/site-packages/edward/util/random_variables.py:52: FutureWarning: Conversion of the second argument of issubdtype from `float` to `np.floating` is deprecated. In future, it will be treated as `np.float64 == np.dtype(float).type`.\n",
      "  not np.issubdtype(value.dtype, np.float) and \\\n"
     ]
    },
    {
     "name": "stdout",
     "output_type": "stream",
     "text": [
      "1000/1000 [100%] ██████████████████████████████ Elapsed: 6s | Acceptance Rate: 1.001\n"
     ]
    }
   ],
   "source": [
    "# Inference by MCMC-Gibbs sampling\n",
    "inference = ed.Gibbs({mu: qmu}, data={x: x_data})\n",
    "inference.initialize(n_iter=1000)\n",
    "tf.global_variables_initializer().run()\n",
    "\n",
    "for _ in range(inference.n_iter):\n",
    "    info_dict = inference.update()\n",
    "    inference.print_progress(info_dict)\n",
    "\n",
    "inference.finalize()"
   ]
  },
  {
   "cell_type": "code",
   "execution_count": 5,
   "metadata": {},
   "outputs": [
    {
     "name": "stdout",
     "output_type": "stream",
     "text": [
      "('Estimated mean: ', array([1.0053271, 1.0013295, 0.9984345, 1.0063543, 0.9976095],\n",
      "      dtype=float32))\n",
      "('RMSE: ', 0.01572366917193939)\n"
     ]
    }
   ],
   "source": [
    "# View estimations\n",
    "sess = ed.get_session()\n",
    "samples_mu = [sess.run(qmu) for i in range(1000)]\n",
    "muest = np.mean(samples_mu, axis=0)\n",
    "rmse = np.sqrt(np.mean([(np.linalg.norm(samples_mu[i]-true_mu))**2 for i in range(len(samples_mu))]))\n",
    "print(\"Estimated mean: \", muest)\n",
    "print(\"RMSE: \", rmse)"
   ]
  }
 ],
 "metadata": {
  "kernelspec": {
   "display_name": "Python 2",
   "language": "python",
   "name": "python2"
  },
  "language_info": {
   "codemirror_mode": {
    "name": "ipython",
    "version": 2
   },
   "file_extension": ".py",
   "mimetype": "text/x-python",
   "name": "python",
   "nbconvert_exporter": "python",
   "pygments_lexer": "ipython2",
   "version": "2.7.15"
  }
 },
 "nbformat": 4,
 "nbformat_minor": 2
}
